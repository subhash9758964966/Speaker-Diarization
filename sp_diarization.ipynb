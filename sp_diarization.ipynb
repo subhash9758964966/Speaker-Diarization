{
  "nbformat": 4,
  "nbformat_minor": 0,
  "metadata": {
    "colab": {
      "name": "sp_diarization.ipynb",
      "provenance": [],
      "authorship_tag": "ABX9TyN1ZSTWD4sKB7nJNBljkoP5",
      "include_colab_link": true
    },
    "kernelspec": {
      "name": "python3",
      "display_name": "Python 3"
    }
  },
  "cells": [
    {
      "cell_type": "markdown",
      "metadata": {
        "id": "view-in-github",
        "colab_type": "text"
      },
      "source": [
        "<a href=\"https://colab.research.google.com/github/muskang48/Speaker-Diarization/blob/master/sp_diarization.ipynb\" target=\"_parent\"><img src=\"https://colab.research.google.com/assets/colab-badge.svg\" alt=\"Open In Colab\"/></a>"
      ]
    },
    {
      "cell_type": "code",
      "metadata": {
        "id": "3afanqemkK3H",
        "colab_type": "code",
        "colab": {
          "base_uri": "https://localhost:8080/",
          "height": 141
        },
        "outputId": "46c84c64-f033-4c64-f304-cf6d03314d6f"
      },
      "source": [
        "from google.colab import drive\n",
        "drive.mount('/content/drive')"
      ],
      "execution_count": 2,
      "outputs": [
        {
          "output_type": "stream",
          "text": [
            "Go to this URL in a browser: https://accounts.google.com/o/oauth2/auth?client_id=947318989803-6bn6qk8qdgf4n4g3pfee6491hc0brc4i.apps.googleusercontent.com&redirect_uri=urn%3aietf%3awg%3aoauth%3a2.0%3aoob&response_type=code&scope=email%20https%3a%2f%2fwww.googleapis.com%2fauth%2fdocs.test%20https%3a%2f%2fwww.googleapis.com%2fauth%2fdrive%20https%3a%2f%2fwww.googleapis.com%2fauth%2fdrive.photos.readonly%20https%3a%2f%2fwww.googleapis.com%2fauth%2fpeopleapi.readonly\n",
            "\n",
            "Enter your authorization code:\n",
            "··········\n",
            "Mounted at /content/drive\n",
            "TensorFlow 1.x selected.\n"
          ],
          "name": "stdout"
        }
      ]
    },
    {
      "cell_type": "code",
      "metadata": {
        "id": "TOWfG0Vs0KZW",
        "colab_type": "code",
        "colab": {
          "base_uri": "https://localhost:8080/",
          "height": 35
        },
        "outputId": "dfd86a4f-837c-4ae2-fdf0-1a4ebf520c35"
      },
      "source": [
        "#For Installing pyannote from github properly run this and the cell next to this.\n",
        "#Then Restart the runtime and again run both the cells to avoid further errors.\n",
        "pip install typing-extensions==3.7.4.1"
      ],
      "execution_count": 6,
      "outputs": [
        {
          "output_type": "stream",
          "text": [
            "Requirement already satisfied: typing-extensions==3.7.4.1 in /usr/local/lib/python3.6/dist-packages (3.7.4.1)\n"
          ],
          "name": "stdout"
        }
      ]
    },
    {
      "cell_type": "code",
      "metadata": {
        "id": "IS6dRr5d0SQv",
        "colab_type": "code",
        "colab": {
          "base_uri": "https://localhost:8080/",
          "height": 35
        },
        "outputId": "6d170ba0-4910-48d9-a66d-c2c9ea5fc049"
      },
      "source": [
        "!pip install -q https://github.com/pyannote/pyannote-audio/tarball/develop"
      ],
      "execution_count": 2,
      "outputs": [
        {
          "output_type": "stream",
          "text": [
            "  Building wheel for pyannote.audio (setup.py) ... \u001b[?25l\u001b[?25hdone\n"
          ],
          "name": "stdout"
        }
      ]
    },
    {
      "cell_type": "code",
      "metadata": {
        "id": "L5CcYZOLkfhH",
        "colab_type": "code",
        "colab": {
          "base_uri": "https://localhost:8080/",
          "height": 35
        },
        "outputId": "e0da73f7-b710-4bfe-e532-ad1832c5744b"
      },
      "source": [
        "#Voice Activity Detection\n",
        "!pip install webrtcvad\n",
        "import contextlib\n",
        "import numpy as np\n",
        "import wave\n",
        "import librosa\n",
        "import webrtcvad\n",
        "\n",
        "\n",
        "def read_wave(path):\n",
        "    with contextlib.closing(wave.open(path, 'rb')) as wf:\n",
        "        num_channels = wf.getnchannels()\n",
        "        assert num_channels == 1\n",
        "        sample_width = wf.getsampwidth()\n",
        "        assert sample_width == 2\n",
        "        sample_rate = wf.getframerate()\n",
        "        assert sample_rate in (8000, 16000, 32000, 48000)\n",
        "        pcm_data = wf.readframes(wf.getnframes())\n",
        "        return pcm_data, sample_rate\n",
        "\n",
        "\n",
        "class Frame(object):\n",
        "  def __init__(self, bytes, timestamp, duration):\n",
        "        self.bytes = bytes\n",
        "        self.timestamp = timestamp\n",
        "        self.duration = duration\n",
        "\n",
        "\n",
        "def frame_generator(frame_duration_ms, audio, sample_rate):\n",
        "    n = int(sample_rate * (frame_duration_ms / 1000.0) * 2)\n",
        "    offset = 0\n",
        "    timestamp = 0.0\n",
        "    duration = (float(n) / sample_rate) / 2.0\n",
        "    while offset + n < len(audio):\n",
        "        yield Frame(audio[offset:offset + n], timestamp, duration)\n",
        "        timestamp += duration\n",
        "        offset += n\n",
        "\n",
        "\n",
        "def vad_collector(vad, frames, sample_rate):\n",
        "    is_speech = []\n",
        "    for frame in frames:\n",
        "        is_speech.append(vad.is_speech(frame.bytes, sample_rate))\n",
        "    return is_speech\n",
        "\n",
        "\n",
        "def vad(file):\n",
        "    audio, sample_rate = read_wave(file)\n",
        "    vad = webrtcvad.Vad(2)\n",
        "    frames = frame_generator(10, audio, sample_rate)\n",
        "    frames = list(frames)\n",
        "    segments = vad_collector(vad, frames, sample_rate)\n",
        "    return segments\n",
        "\n",
        "def speech(file):\n",
        "  dummy = 0\n",
        "  data = []\n",
        "  segments = vad(file)\n",
        "  audio, sr = librosa.load(file)\n",
        "  for i in segments:\n",
        "    if i == True:\n",
        "      data.append(audio[dummy:dummy + 480])\n",
        "      dummy = dummy + 480\n",
        "    else:\n",
        "      dummy = dummy + 480\n",
        "  data = np.ravel(np.asarray(data))\n",
        "\n",
        "  return data\n",
        "\n",
        "def fxn(file):\n",
        "  segments = vad(file)\n",
        "  segments = np.asarray(segments)\n",
        "  dummy = 0.01*np.where(segments[:-1] != segments[1:])[0] +.01 \n",
        "  if len(dummy)%2==0:\n",
        "    dummy = dummy\n",
        "  else:\n",
        "    dummy = np.delete(dummy, len(dummy)-1)\n",
        "\n",
        "  voice = dummy.reshape(int(len(dummy)/2),2)\n",
        "  \n",
        "  return voice"
      ],
      "execution_count": 7,
      "outputs": [
        {
          "output_type": "stream",
          "text": [
            "Requirement already satisfied: webrtcvad in /usr/local/lib/python3.6/dist-packages (2.0.10)\n"
          ],
          "name": "stdout"
        }
      ]
    },
    {
      "cell_type": "code",
      "metadata": {
        "id": "hWrP6R8ilaRh",
        "colab_type": "code",
        "colab": {
          "base_uri": "https://localhost:8080/",
          "height": 436
        },
        "outputId": "db8eef67-696a-42f1-abe8-8dcffcf58f3d"
      },
      "source": [
        "#Segmentation (Each Segment will have only one Speaker)\n",
        "%tensorflow_version 1.x\n",
        "import librosa\n",
        "import matplotlib.pyplot as plt\n",
        "from keras.layers.core import Dense\n",
        "from keras.models import Sequential\n",
        "from keras.layers import Bidirectional, TimeDistributed, Dropout\n",
        "from keras.layers import LSTM\n",
        "import numpy as np\n",
        "import keras\n",
        "\n",
        "model = Sequential()\n",
        "\n",
        "model.add(Bidirectional(LSTM(128, return_sequences=True)))\n",
        "model.add(Bidirectional(LSTM(128, return_sequences=True)))\n",
        "model.add(TimeDistributed(Dense(32)))\n",
        "model.add(TimeDistributed(Dense(32)))\n",
        "model.add(TimeDistributed(Dense(1, activation='sigmoid')))\n",
        "\n",
        "model.build(input_shape=(None, 137, 35))\n",
        "model.summary()\n",
        "#Upload the pre-trained model file from Google Drive. Change the Path accordingly.\n",
        "h5_model_file = '/content/drive/My Drive/SRU/model_hindi_2.h5'\n",
        "model.load_weights(h5_model_file)\n",
        "\n",
        "\n",
        "def multi_segmentation(file):\n",
        "    frame_size = 2048\n",
        "    frame_shift = 512\n",
        "    y, sr = librosa.load(file)\n",
        "    mfccs = librosa.feature.mfcc(y, sr, n_mfcc=12, hop_length=frame_shift, n_fft=frame_size)\n",
        "    mfcc_delta = librosa.feature.delta(mfccs)\n",
        "    mfcc_delta2 = librosa.feature.delta(mfccs, order=2)\n",
        "\n",
        "    mfcc = mfccs[1:, ]\n",
        "    norm_mfcc = (mfcc - np.mean(mfcc, axis=1, keepdims=True)) / np.std(mfcc, axis=1, keepdims=True)\n",
        "    norm_mfcc_delta = (mfcc_delta - np.mean(mfcc_delta, axis=1, keepdims=True)) / np.std(mfcc_delta, axis=1, keepdims=True)\n",
        "    norm_mfcc_delta2 = (mfcc_delta2 - np.mean(mfcc_delta2, axis=1, keepdims=True)) / np.std(mfcc_delta2, axis=1, keepdims=True)\n",
        "\n",
        "    ac_feature = np.vstack((norm_mfcc, norm_mfcc_delta, norm_mfcc_delta2))\n",
        "    print(ac_feature.shape)\n",
        "\n",
        "    sub_seq_len = int(3.2 * sr / frame_shift)\n",
        "    sub_seq_step = int(0.8 * sr / frame_shift)\n",
        "\n",
        "    def extract_feature():\n",
        "        feature_len = ac_feature.shape[1]\n",
        "        sub_train_x = []\n",
        "        for i in range(0, feature_len-sub_seq_len, sub_seq_step):\n",
        "            sub_seq_x = np.transpose(ac_feature[:, i: i+sub_seq_len])\n",
        "            sub_train_x.append(sub_seq_x[np.newaxis, :, :])\n",
        "        return np.vstack(sub_train_x), feature_len\n",
        "\n",
        "    predict_x, feature_len = extract_feature()\n",
        "    print(predict_x.shape)\n",
        "\n",
        "    predict_y = model.predict(predict_x)\n",
        "    print(predict_y.shape)\n",
        "\n",
        "    score_acc = np.zeros((feature_len, 1))\n",
        "    score_cnt = np.ones((feature_len, 1))\n",
        "\n",
        "    for i in range(predict_y.shape[0]):\n",
        "        for j in range(predict_y.shape[1]):\n",
        "            index = i*sub_seq_step+j\n",
        "            score_acc[index] += predict_y[i, j, 0]\n",
        "            score_cnt[index] += 1\n",
        "\n",
        "    score_norm = score_acc / score_cnt\n",
        "\n",
        "    wStart = 0\n",
        "    wEnd = 200\n",
        "    wGrow = 200\n",
        "    delta = 25\n",
        "\n",
        "    store_cp = []\n",
        "    index = 0\n",
        "    while wEnd < feature_len:\n",
        "        score_seg = score_norm[wStart:wEnd]\n",
        "        max_v = np.max(score_seg)\n",
        "        max_index = np.argmax(score_seg)\n",
        "        index = index + 1\n",
        "        if max_v > 0.5:\n",
        "            temp = wStart + max_index\n",
        "            store_cp.append(temp)\n",
        "            wStart = wStart + max_index + 50\n",
        "            wEnd = wStart + wGrow\n",
        "        else:\n",
        "            wEnd = wEnd + wGrow\n",
        "\n",
        "    seg_point = np.array(store_cp)*frame_shift\n",
        "\n",
        "    plt.figure('speech segmentation plot')\n",
        "    plt.plot(np.arange(0, len(y)) / (float)(sr), y, \"b-\")\n",
        "\n",
        "    for i in range(len(seg_point)):\n",
        "        plt.vlines(seg_point[i] / (float)(sr), -1, 1, colors=\"c\", linestyles=\"dashed\")\n",
        "        plt.vlines(seg_point[i] / (float)(sr), -1, 1, colors=\"r\", linestyles=\"dashed\")\n",
        "    plt.xlabel(\"Time/s\")\n",
        "    plt.ylabel(\"Speech Amp\")\n",
        "    plt.grid(True)\n",
        "    plt.show()\n",
        "\n",
        "    return np.asarray(seg_point) / float(sr)"
      ],
      "execution_count": 8,
      "outputs": [
        {
          "output_type": "stream",
          "text": [
            "TensorFlow 1.x selected.\n"
          ],
          "name": "stdout"
        },
        {
          "output_type": "stream",
          "text": [
            "Using TensorFlow backend.\n"
          ],
          "name": "stderr"
        },
        {
          "output_type": "stream",
          "text": [
            "WARNING:tensorflow:From /tensorflow-1.15.2/python3.6/tensorflow_core/python/ops/resource_variable_ops.py:1630: calling BaseResourceVariable.__init__ (from tensorflow.python.ops.resource_variable_ops) with constraint is deprecated and will be removed in a future version.\n",
            "Instructions for updating:\n",
            "If using Keras pass *_constraint arguments to layers.\n",
            "Model: \"sequential_1\"\n",
            "_________________________________________________________________\n",
            "Layer (type)                 Output Shape              Param #   \n",
            "=================================================================\n",
            "bidirectional_1 (Bidirection (None, 137, 256)          167936    \n",
            "_________________________________________________________________\n",
            "bidirectional_2 (Bidirection (None, 137, 256)          394240    \n",
            "_________________________________________________________________\n",
            "time_distributed_1 (TimeDist (None, 137, 32)           8224      \n",
            "_________________________________________________________________\n",
            "time_distributed_2 (TimeDist (None, 137, 32)           1056      \n",
            "_________________________________________________________________\n",
            "time_distributed_3 (TimeDist (None, 137, 1)            33        \n",
            "=================================================================\n",
            "Total params: 571,489\n",
            "Trainable params: 571,489\n",
            "Non-trainable params: 0\n",
            "_________________________________________________________________\n"
          ],
          "name": "stdout"
        }
      ]
    },
    {
      "cell_type": "code",
      "metadata": {
        "id": "onC8jO7Tl99E",
        "colab_type": "code",
        "colab": {}
      },
      "source": [
        "#Re-segmentation (Based on Combining VAD and Segementation Output)\n",
        "def group_intervals(a):\n",
        "    a = a.tolist()\n",
        "    ans = []\n",
        "\n",
        "    curr = None\n",
        "    for x in a:\n",
        "        # no previous interval under consideration\n",
        "        if curr == None:\n",
        "          curr = x\n",
        "        else:\n",
        "            # check if we can merge the intervals\n",
        "            if x[0]-curr[1] < 1:\n",
        "                curr[1] = x[1]\n",
        "            else:\n",
        "            # if we cannot merge, push the current element to ans\n",
        "                ans.append(curr)\n",
        "                curr = x\n",
        "\n",
        "        if curr is not None:\n",
        "            ans.append(curr)\n",
        "\n",
        "    d1 = np.asarray(ans)\n",
        "    d2 = np.unique(d1)\n",
        "    d3 = d2.reshape(int(len(d2)/2),2)\n",
        "    return d3\n",
        "    \n",
        "def spliting(seg,arr):\n",
        "  arr1 = arr.tolist()\n",
        "  temp = arr.copy()\n",
        "  \n",
        "  for i in range(len(seg)-1):\n",
        "    temp1 = float(seg[i])\n",
        "    # print(temp1)\n",
        "    #for j in range(len(arr)-1):\n",
        "    for j in range(len(arr)):\n",
        "      if ((temp1 > arr[j][0]) & (temp1 < arr[j][1])):\n",
        "        arr1[j].insert(-1,(temp1))\n",
        "\n",
        "  #for i in range(len(arr1-1)):\n",
        "  for i in range(len(arr1)):\n",
        "    size=len(arr1[i])\n",
        "    if size>=3:\n",
        "      arr1[i].pop(-2) if arr1[i][-1]-arr1[i][-2]<0.2 else True\n",
        "      \n",
        "  return arr1\n",
        "  \n",
        "def final_reseg(arr):\n",
        "  z=[]\n",
        "  for i in arr:\n",
        "    if len(i)==2:\n",
        "      z.append(i)\n",
        "    else:\n",
        "      temp = len(i)\n",
        "      for j in range(temp-1):\n",
        "        if j!=temp-1:\n",
        "          temp1 = [i[j],i[j+1]-0.01]\n",
        "          z.append(temp1)\n",
        "        elif j==temp-1:\n",
        "          temp1 = [i[j],i[j+1]]\n",
        "          z.append(temp1)\n",
        "  \n",
        "  return np.asarray(z)"
      ],
      "execution_count": 0,
      "outputs": []
    },
    {
      "cell_type": "code",
      "metadata": {
        "id": "J1JdDad7ndpk",
        "colab_type": "code",
        "colab": {}
      },
      "source": [
        "#Embedding Extraction\n",
        "import torch\n",
        "import librosa\n",
        "from pyannote.core import Segment\n",
        "\n",
        "def embeddings_(audio_path,resegmented,range):\n",
        "  model_emb = torch.hub.load('pyannote/pyannote-audio', 'emb')\n",
        "  \n",
        "  embedding = model_emb({'audio': audio_path})\n",
        "  for window, emb in embedding:\n",
        "    assert isinstance(window, Segment)\n",
        "    assert isinstance(emb, np.ndarray)\n",
        "\n",
        "  y, sr = librosa.load(audio_path)\n",
        "  myDict={}\n",
        "  myDict['audio'] = audio_path\n",
        "  myDict['duration'] = len(y)/sr\n",
        "\n",
        "  data=[]\n",
        "  for i in resegmented:\n",
        "    excerpt = Segment(start=i[0], end=i[0]+range)\n",
        "    emb = model_emb.crop(myDict,excerpt)\n",
        "    data.append(emb.T)\n",
        "  data= np.asarray(data)\n",
        "  \n",
        "  return data.reshape(len(data),512)"
      ],
      "execution_count": 0,
      "outputs": []
    },
    {
      "cell_type": "code",
      "metadata": {
        "id": "Wc2APlNsom2b",
        "colab_type": "code",
        "colab": {}
      },
      "source": [
        "#Clustering (Mean-Shift)\n",
        "from sklearn.manifold import TSNE\n",
        "from sklearn.cluster import MeanShift\n",
        "from sklearn.preprocessing import StandardScaler\n",
        "import matplotlib.pyplot as plt\n",
        "scaler = StandardScaler()\n",
        "def clustering(emb):\n",
        "  temp = scaler.fit_transform(emb)\n",
        "  Y = TSNE(n_components=2).fit_transform(temp)\n",
        "  cluster_ms = MeanShift(bandwidth = 3,max_iter='200',cluster_all=False).fit(Y)\n",
        "  y_ms = cluster_ms.predict(Y)\n",
        "  clus_centre = cluster_ms.cluster_centers_\n",
        "  n_speakers = clus_centre.shape[0]\n",
        "  plt.figure\n",
        "  plt.scatter(Y[:,0], Y[:, 1], c=y_ms, s=50, cmap='viridis')\n",
        "  plt.show()\n",
        "\n",
        "  return y_ms, n_speakers"
      ],
      "execution_count": 0,
      "outputs": []
    },
    {
      "cell_type": "code",
      "metadata": {
        "id": "3EjVUubjpB-w",
        "colab_type": "code",
        "colab": {}
      },
      "source": [
        "#Generating Hypothesis\n",
        "from pyannote.core import Annotation, Segment\n",
        "def hypothesis_gen(hyp_df):\n",
        "  hyp_records = hyp_df.to_records(index=False)\n",
        "  hyp_rec = list(hyp_records)\n",
        "  hypothesis = Annotation()\n",
        "  for i in range(len(hyp_rec)-1):\n",
        "    hypothesis[Segment(hyp_rec[i][1], hyp_rec[i][2])] = hyp_rec[i][0]\n",
        "\n",
        "  return hypothesis"
      ],
      "execution_count": 0,
      "outputs": []
    },
    {
      "cell_type": "code",
      "metadata": {
        "id": "aKLzU1mVpKyZ",
        "colab_type": "code",
        "colab": {}
      },
      "source": [
        "#Diarization \n",
        "from sklearn import preprocessing\n",
        "import pandas as pd\n",
        "def diarization(audiofile):\n",
        "    voice = fxn(audiofile)\n",
        "    segmented = multi_segmentation(audiofile)\n",
        "    gp = group_intervals(voice)\n",
        "    splt = spliting(segmented,gp)\n",
        "    resegmented = final_reseg(splt)\n",
        "    embeddings = embeddings_(audiofile,resegmented,2)\n",
        "    speak_id , n_speakers = clustering(embeddings)\n",
        "    label_list = []\n",
        "    alpha = 'A'\n",
        "    for i in range(0, n_speakers): \n",
        "        label_list.append(alpha) \n",
        "        alpha = chr(ord(alpha) + 1) \n",
        "    lb = preprocessing.LabelEncoder()\n",
        "    label_hyp = lb.fit(label_list)\n",
        "    speaker_id = lb.inverse_transform(speak_id)\n",
        "    hyp_df = pd.DataFrame({'Speaker_id': speaker_id,'Offset': resegmented[:, 0], 'end': resegmented[:, 1]})\n",
        "    result_hypo = hypothesis_gen(hyp_df)  \n",
        "    return segmented, n_speakers, hyp_df, result_hypo"
      ],
      "execution_count": 0,
      "outputs": []
    },
    {
      "cell_type": "code",
      "metadata": {
        "id": "T17SeN1Hw__b",
        "colab_type": "code",
        "colab": {
          "base_uri": "https://localhost:8080/",
          "height": 666
        },
        "outputId": "fc9ee8a5-0e96-43bf-cf32-4106cbd24fb5"
      },
      "source": [
        "#Give the path of audio file for Speaker Diarization (It should be Mono type.)\n",
        "segmented, n_clusters, hyp_df, result_hypo = diarization('/content/drive/My Drive/SRU/Hindi_01.wav')\n",
        "print(n_clusters)\n",
        "print(hyp_df)\n",
        "result_hypo"
      ],
      "execution_count": 22,
      "outputs": [
        {
          "output_type": "stream",
          "text": [
            "(35, 78497)\n",
            "(2305, 137, 35)\n",
            "(2305, 137, 1)\n"
          ],
          "name": "stdout"
        },
        {
          "output_type": "display_data",
          "data": {
            "image/png": "[encoded data removed]",
            "text/plain": [
              "<Figure size 432x288 with 1 Axes>"
            ]
          },
          "metadata": {
            "tags": [],
            "needs_background": "light"
          }
        },
        {
          "output_type": "stream",
          "text": [
            "Using cache found in /root/.cache/torch/hub/pyannote_pyannote-audio_master\n",
            "/usr/local/lib/python3.6/dist-packages/pyannote/audio/embedding/approaches/arcface_loss.py:170: FutureWarning:\n",
            "\n",
            "The 's' parameter is deprecated in favor of 'scale', and will be removed in a future release\n",
            "\n"
          ],
          "name": "stderr"
        },
        {
          "output_type": "display_data",
          "data": {
            "image/png": "[encoded data removed]",
            "text/plain": [
              "<Figure size 432x288 with 1 Axes>"
            ]
          },
          "metadata": {
            "tags": [],
            "needs_background": "light"
          }
        }
      ]
    },
    {
      "cell_type": "code",
      "metadata": {
        "colab_type": "code",
        "id": "mMRwTnjJyu7A",
        "colab": {}
      },
      "source": [
        "#Evaluation (DER)\n",
        "def reference_gen(annotation_path):\n",
        "  df = pd.read_csv(annotation_path)\n",
        "  ref_df = df[df['filename'] == 'Hindi_01']\n",
        "  ref_df = ref_df.assign(end = ref_df.Offset + ref_df.Duration)\n",
        "  ref_df = ref_df[['Speaker_id','Offset','end']]\n",
        "  ref_records = ref_df.to_records(index=False)\n",
        "  ref_rec = list(ref_records)\n",
        "  reference = Annotation()\n",
        "  for i in range(len(ref_rec)-1):\n",
        "    reference[Segment(ref_rec[i][1], ref_rec[i][2])] = ref_rec[i][0]\n",
        "\n",
        "  return reference, ref_df"
      ],
      "execution_count": 0,
      "outputs": []
    },
    {
      "cell_type": "code",
      "metadata": {
        "id": "ooGFwg2cx96R",
        "colab_type": "code",
        "colab": {
          "base_uri": "https://localhost:8080/",
          "height": 159
        },
        "outputId": "d8cca564-9ec2-4d85-a10d-450cfa0e1151"
      },
      "source": [
        "#Give the path for Annotations File of Audio for calculating DER.\n",
        "reference, ref_df = reference_gen('/content/drive/My Drive/SRU/hindi_annotations1.csv')\n",
        "#Visualization (Comparing Between Ground Truth and Hypothesis)\n",
        "reference"
      ],
      "execution_count": 32,
      "outputs": [
        {
          "output_type": "execute_result",
          "data": {
            "image/png": "[encoded data removed]",
            "text/plain": [
              "<pyannote.core.annotation.Annotation at 0x7fb615e49e10>"
            ]
          },
          "metadata": {
            "tags": []
          },
          "execution_count": 32
        }
      ]
    },
    {
      "cell_type": "code",
      "metadata": {
        "id": "0L85ga_d9U4s",
        "colab_type": "code",
        "colab": {
          "base_uri": "https://localhost:8080/",
          "height": 159
        },
        "outputId": "634f5696-852b-469c-d242-486ac5b1e2ba"
      },
      "source": [
        "result_hypo"
      ],
      "execution_count": 33,
      "outputs": [
        {
          "output_type": "execute_result",
          "data": {
            "image/png": "[encoded data removed]",
            "text/plain": [
              "<pyannote.core.annotation.Annotation at 0x7fb61d020080>"
            ]
          },
          "metadata": {
            "tags": []
          },
          "execution_count": 33
        }
      ]
    },
    {
      "cell_type": "code",
      "metadata": {
        "id": "4eWYkbK8v1Bg",
        "colab_type": "code",
        "colab": {
          "base_uri": "https://localhost:8080/",
          "height": 139
        },
        "outputId": "6c09c6ee-5ab6-4aab-99b3-d67952aba752"
      },
      "source": [
        "from pyannote.metrics.diarization import DiarizationErrorRate\n",
        "from pyannote.metrics.diarization import DiarizationPurity\n",
        "from pyannote.metrics.diarization import DiarizationCoverage\n",
        "#Upload the annotation file from Google Drive. Change the Path accordingly.\n",
        "result_ref, ref_df = reference_gen('/content/drive/My Drive/SRU/hindi_annotations1.csv')\n",
        "diarizationErrorRate = DiarizationErrorRate()\n",
        "print(\"DER = {0:.3f}\".format(diarizationErrorRate(result_ref, result_hypo)))\n",
        "#To Evaluate particular Segment of audio-file.\n",
        "diarizationErrorRate(result_ref, result_hypo, detailed=True, uem=Segment(0, 40))\n",
        "#Purity \n",
        "purity = DiarizationPurity()\n",
        "print(\"Purity = {0:.3f}\".format(purity(result_ref, result_hypo, uem=Segment(0, 40))))\n",
        "#Coverage\n",
        "coverage = DiarizationCoverage()\n",
        "print(\"Coverage = {0:.3f}\".format(coverage(result_ref, result_hypo, uem=Segment(0, 40))))"
      ],
      "execution_count": 35,
      "outputs": [
        {
          "output_type": "stream",
          "text": [
            "DER = 0.267\n",
            "Purity = 1.000\n",
            "Coverage = 0.645\n"
          ],
          "name": "stdout"
        },
        {
          "output_type": "stream",
          "text": [
            "/usr/local/lib/python3.6/dist-packages/pyannote/metrics/utils.py:184: UserWarning:\n",
            "\n",
            "'uem' was approximated by the union of 'reference' and 'hypothesis' extents.\n",
            "\n"
          ],
          "name": "stderr"
        }
      ]
    }
  ]
}